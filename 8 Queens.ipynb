{
 "cells": [
  {
   "cell_type": "code",
   "execution_count": 2,
   "metadata": {},
   "outputs": [],
   "source": [
    "import mlrose\n",
    "import numpy as np\n",
    "import time\n",
    "import matplotlib.pyplot as plt\n",
    "import math"
   ]
  },
  {
   "cell_type": "code",
   "execution_count": 3,
   "metadata": {},
   "outputs": [],
   "source": [
    "fitness=mlrose.Queens()"
   ]
  },
  {
   "cell_type": "code",
   "execution_count": 4,
   "metadata": {},
   "outputs": [],
   "source": [
    "problem = mlrose.DiscreteOpt(length = 8, fitness_fn = fitness,\n",
    "                             maximize = False, max_val = 8)"
   ]
  },
  {
   "cell_type": "code",
   "execution_count": 7,
   "metadata": {},
   "outputs": [],
   "source": [
    "iteration=[10,100,1000,10000,100000,1000000]"
   ]
  },
  {
   "cell_type": "code",
   "execution_count": 8,
   "metadata": {},
   "outputs": [
    {
     "name": "stdout",
     "output_type": "stream",
     "text": [
      "The best state found is:  [5 3 1 7 4 6 0 2]\n",
      "The fitness at the best state is:  [0.0]\n",
      "Time needed is: 0.028672756140931455\n"
     ]
    }
   ],
   "source": [
    "schedule = mlrose.ExpDecay()\n",
    "np.random.seed(1)\n",
    "annealing_best_fitness=[]\n",
    "time_start=time.clock()\n",
    "for i in iteration:\n",
    "    best_state, best_fitness = mlrose.simulated_annealing(problem, schedule = schedule,\n",
    "                                                      max_attempts = 50, max_iters = i)\n",
    "    annealing_best_fitness.append(best_fitness)\n",
    "time_fit_annealing=time.clock()-time_start\n",
    "print('The best state found is: ', best_state)\n",
    "print('The fitness at the best state is: ', annealing_best_fitness)\n",
    "print('Time needed is:', time_fit_annealing)"
   ]
  },
  {
   "cell_type": "code",
   "execution_count": 9,
   "metadata": {},
   "outputs": [
    {
     "name": "stdout",
     "output_type": "stream",
     "text": [
      "The best state found is:  [4 0 5 3 1 6 2 5]\n",
      "The fitness at the best state is:  [1.0]\n",
      "Time needed is: 1.2410324056899924\n"
     ]
    }
   ],
   "source": [
    "np.random.seed(1)\n",
    "genetic_best_fitness=[]\n",
    "time_start=time.clock()\n",
    "for i in iteration:\n",
    "    best_state, best_fitness = mlrose.genetic_alg(problem,mutation_prob=0.1,max_attempts=50,max_iters=i)\n",
    "    genetic_best_fitness.append(best_fitness)\n",
    "time_fit_genetic=time.clock()-time_start\n",
    "print('The best state found is: ', best_state)\n",
    "print('The fitness at the best state is: ', genetic_best_fitness)\n",
    "print('Time needed is:', time_fit_genetic)"
   ]
  },
  {
   "cell_type": "code",
   "execution_count": 10,
   "metadata": {},
   "outputs": [
    {
     "name": "stdout",
     "output_type": "stream",
     "text": [
      "The best state found is:  [5 2 0 7 4 1 3 6]\n",
      "The fitness at the best state is:  [0.0]\n",
      "Time needed is: 0.01059159238527485\n"
     ]
    }
   ],
   "source": [
    "np.random.seed(1)\n",
    "hill_best_fitness=[]\n",
    "time_start=time.clock()\n",
    "for i in iteration:\n",
    "    best_state, best_fitness = mlrose.random_hill_climb(problem,max_attempts=50,max_iters=i)\n",
    "    hill_best_fitness.append(best_fitness)\n",
    "time_fit_hill=time.clock()-time_start    \n",
    "print('The best state found is: ', best_state)\n",
    "print('The fitness at the best state is: ', hill_best_fitness)\n",
    "print('Time needed is:', time_fit_hill)"
   ]
  },
  {
   "cell_type": "code",
   "execution_count": 11,
   "metadata": {},
   "outputs": [
    {
     "name": "stdout",
     "output_type": "stream",
     "text": [
      "The best state found is:  [5 2 0 7 4 1 3 6]\n",
      "The fitness at the best state is:  [0.0]\n",
      "Time needed is: 0.07279003718711152\n"
     ]
    }
   ],
   "source": [
    "np.random.seed(1)\n",
    "restarthill_best_fitness=[]\n",
    "time_start=time.clock()\n",
    "for i in iteration:\n",
    "    best_state, best_fitness = mlrose.random_hill_climb(problem,max_attempts=50,max_iters=i,restarts=10)\n",
    "    restarthill_best_fitness.append(best_fitness)\n",
    "time_fit_rehill=time.clock()-time_start    \n",
    "print('The best state found is: ', best_state)\n",
    "print('The fitness at the best state is: ', restarthill_best_fitness)\n",
    "print('Time needed is:', time_fit_rehill)"
   ]
  },
  {
   "cell_type": "code",
   "execution_count": 12,
   "metadata": {},
   "outputs": [
    {
     "name": "stdout",
     "output_type": "stream",
     "text": [
      "The best state found is:  [7 4 1 0 6 3 6 2]\n",
      "The fitness at the best state is:  [2.0]\n",
      "Time needed is: 1.7614331716347564\n"
     ]
    }
   ],
   "source": [
    "np.random.seed(1)\n",
    "mimic_best_fitness=[]\n",
    "time_start=time.clock()\n",
    "for i in iteration:\n",
    "    best_state, best_fitness = mlrose.mimic(problem,pop_size=200,keep_pct=0.2,max_attempts=50,max_iters=i)\n",
    "    mimic_best_fitness.append(best_fitness) \n",
    "time_fit_mimic=time.clock()-time_start      \n",
    "print('The best state found is: ', best_state)\n",
    "print('The fitness at the best state is: ',mimic_best_fitness)\n",
    "print('Time needed is:', time_fit_mimic)"
   ]
  },
  {
   "cell_type": "code",
   "execution_count": 10,
   "metadata": {},
   "outputs": [],
   "source": [
    "x=[math.log10(x) for x in iteration]"
   ]
  },
  {
   "cell_type": "code",
   "execution_count": 11,
   "metadata": {
    "scrolled": true
   },
   "outputs": [
    {
     "data": {
      "image/png": "[encoded data removed]",
      "text/plain": [
       "<Figure size 432x288 with 1 Axes>"
      ]
     },
     "metadata": {},
     "output_type": "display_data"
    }
   ],
   "source": [
    "plt.plot(x,annealing_best_fitness,'r^--',x,genetic_best_fitness,'bo--',\n",
    "         x,hill_best_fitness,'y^--',x,restarthill_best_fitness,'go--',x,mimic_best_fitness,'k^--')\n",
    "plt.axis([0,7,-1,6])\n",
    "plt.ylabel('Fitness')\n",
    "plt.xlabel('log10(iteration)')\n",
    "plt.title('8-Queens Problem')\n",
    "plt.savefig('E:/Machine Learning/HW2/8Queens.png')"
   ]
  },
  {
   "cell_type": "code",
   "execution_count": 13,
   "metadata": {},
   "outputs": [
    {
     "name": "stdout",
     "output_type": "stream",
     "text": [
      "The best state found is:  [7 5 1 4 0 3 6 2]\n",
      "The fitness at the best state is:  [4.0, 2.0, 1.0, 1.0, 1.0, 1.0]\n"
     ]
    }
   ],
   "source": [
    "np.random.seed(1)\n",
    "hill_best_fitness2=[]\n",
    "for i in iteration:\n",
    "    best_state, best_fitness = mlrose.random_hill_climb(problem,max_attempts=64,max_iters=i)\n",
    "    hill_best_fitness2.append(best_fitness)   \n",
    "print('The best state found is: ', best_state)\n",
    "print('The fitness at the best state is: ', hill_best_fitness2)"
   ]
  },
  {
   "cell_type": "code",
   "execution_count": 15,
   "metadata": {},
   "outputs": [
    {
     "name": "stdout",
     "output_type": "stream",
     "text": [
      "The best state found is:  [7 1 3 0 6 4 2 5]\n",
      "The fitness at the best state is:  [2.0, 0.0, 0.0, 0.0, 0.0, 0.0]\n"
     ]
    }
   ],
   "source": [
    "np.random.seed(1)\n",
    "restarthill_best_fitness2=[]\n",
    "for i in iteration:\n",
    "    best_state, best_fitness = mlrose.random_hill_climb(problem,max_attempts=64,max_iters=i,restarts=10)\n",
    "    restarthill_best_fitness2.append(best_fitness)  \n",
    "print('The best state found is: ', best_state)\n",
    "print('The fitness at the best state is: ', restarthill_best_fitness2)"
   ]
  },
  {
   "cell_type": "code",
   "execution_count": 27,
   "metadata": {},
   "outputs": [
    {
     "name": "stdout",
     "output_type": "stream",
     "text": [
      "The best state found is:  [0 6 4 7 1 3 5 2]\n",
      "The fitness at the best state is:  [2.0, 1.0, 1.0, 1.0, 1.0, 0.0]\n"
     ]
    }
   ],
   "source": [
    "np.random.seed(1)\n",
    "genetic_best_fitness2=[]\n",
    "for i in iteration:\n",
    "    best_state, best_fitness = mlrose.genetic_alg(problem,mutation_prob=0.5,max_attempts=500,max_iters=i)\n",
    "    genetic_best_fitness2.append(best_fitness)\n",
    "print('The best state found is: ', best_state)\n",
    "print('The fitness at the best state is: ', genetic_best_fitness2)"
   ]
  },
  {
   "cell_type": "code",
   "execution_count": 31,
   "metadata": {},
   "outputs": [
    {
     "name": "stdout",
     "output_type": "stream",
     "text": [
      "The best state found is:  [4 2 0 6 1 7 5 3]\n",
      "The fitness at the best state is:  [5.0, 3.0, 0.0, 0.0, 0.0, 0.0]\n"
     ]
    }
   ],
   "source": [
    "schedule = mlrose.ExpDecay()\n",
    "np.random.seed(1)\n",
    "annealing_best_fitness2=[]\n",
    "for i in iteration:\n",
    "    best_state, best_fitness = mlrose.simulated_annealing(problem, schedule = schedule,\n",
    "                                                      max_attempts = 64, max_iters = i)\n",
    "    annealing_best_fitness2.append(best_fitness)\n",
    "print('The best state found is: ', best_state)\n",
    "print('The fitness at the best state is: ', annealing_best_fitness2)"
   ]
  },
  {
   "cell_type": "code",
   "execution_count": 38,
   "metadata": {},
   "outputs": [
    {
     "name": "stdout",
     "output_type": "stream",
     "text": [
      "The best state found is:  [3 1 7 5 0 2 4 6]\n",
      "The fitness at the best state is:  [1.0, 1.0, 1.0, 0.0, 0.0, 0.0]\n"
     ]
    }
   ],
   "source": [
    "np.random.seed(1)\n",
    "mimic_best_fitness2=[]\n",
    "for i in iteration:\n",
    "    best_state, best_fitness = mlrose.mimic(problem,pop_size=400,keep_pct=0.3,max_attempts=500,max_iters=i)\n",
    "    mimic_best_fitness2.append(best_fitness)     \n",
    "print('The best state found is: ', best_state)\n",
    "print('The fitness at the best state is: ',mimic_best_fitness2)"
   ]
  },
  {
   "cell_type": "code",
   "execution_count": 39,
   "metadata": {},
   "outputs": [
    {
     "data": {
      "image/png": "[encoded data removed]",
      "text/plain": [
       "<Figure size 432x288 with 1 Axes>"
      ]
     },
     "metadata": {},
     "output_type": "display_data"
    }
   ],
   "source": [
    "plt.plot(x,annealing_best_fitness2,'r^--',x,genetic_best_fitness2,'bo--',\n",
    "         x,hill_best_fitness2,'y^--',x,restarthill_best_fitness2,'go--',x,mimic_best_fitness2,'k^--')\n",
    "plt.axis([0,7,-1,6])\n",
    "plt.ylabel('Fitness')\n",
    "plt.xlabel('log10(iteration)')\n",
    "plt.title('8-Queens Problem with Tuned Parameters')\n",
    "plt.savefig('E:/Machine Learning/HW2/8Queens_Better.png')"
   ]
  },
  {
   "cell_type": "code",
   "execution_count": null,
   "metadata": {},
   "outputs": [],
   "source": []
  }
 ],
 "metadata": {
  "kernelspec": {
   "display_name": "Python 3",
   "language": "python",
   "name": "python3"
  },
  "language_info": {
   "codemirror_mode": {
    "name": "ipython",
    "version": 3
   },
   "file_extension": ".py",
   "mimetype": "text/x-python",
   "name": "python",
   "nbconvert_exporter": "python",
   "pygments_lexer": "ipython3",
   "version": "3.6.5"
  }
 },
 "nbformat": 4,
 "nbformat_minor": 2
}
