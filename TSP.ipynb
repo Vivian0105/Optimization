{
 "cells": [
  {
   "cell_type": "code",
   "execution_count": 1,
   "metadata": {},
   "outputs": [],
   "source": [
    "import mlrose\n",
    "import numpy as np\n",
    "import time\n",
    "import matplotlib.pyplot as plt\n",
    "import math"
   ]
  },
  {
   "cell_type": "code",
   "execution_count": 2,
   "metadata": {},
   "outputs": [],
   "source": [
    "coords_list = [(1, 1), (4, 2), (5, 2), (6, 4), (4, 4), (3, 6), (1, 5), (2, 3),(7,7),(8,3)]\n",
    "fitness_coords = mlrose.TravellingSales(coords = coords_list)"
   ]
  },
  {
   "cell_type": "code",
   "execution_count": 3,
   "metadata": {},
   "outputs": [],
   "source": [
    "problem= mlrose.TSPOpt(length = 10, fitness_fn = fitness_coords,\n",
    "                            maximize=False)\n",
    "iteration=[10,100,1000,10000,100000]"
   ]
  },
  {
   "cell_type": "code",
   "execution_count": 4,
   "metadata": {},
   "outputs": [
    {
     "name": "stdout",
     "output_type": "stream",
     "text": [
      "The best state found is:  [7 6 5 8 3 9 2 4 1 0]\n",
      "The fitness at the best state is:  [26.391932855953577, 26.782154177735684, 28.304293571766713, 26.75110645907103, 26.79027849362175]\n",
      "Time needed is: 17.562788222563817\n"
     ]
    }
   ],
   "source": [
    "np.random.seed(2)\n",
    "genetic_best_fitness=[]\n",
    "time_start=time.clock()\n",
    "for i in iteration:\n",
    "    best_state, best_fitness = mlrose.genetic_alg(problem,mutation_prob=0.1,max_attempts=45,max_iters=i)\n",
    "    genetic_best_fitness.append(best_fitness)\n",
    "time_fit_genetic=time.clock()-time_start\n",
    "print('The best state found is: ', best_state)\n",
    "print('The fitness at the best state is: ', genetic_best_fitness)\n",
    "print('Time needed is:', time_fit_genetic)"
   ]
  },
  {
   "cell_type": "code",
   "execution_count": 5,
   "metadata": {},
   "outputs": [
    {
     "name": "stdout",
     "output_type": "stream",
     "text": [
      "The best state found is:  [5 6 7 0 1 2 4 3 9 8]\n",
      "The fitness at the best state is:  [37.058847805431526, 29.024794864854968, 26.391932855953577, 26.426551138734272, 25.588828798902654]\n",
      "Time needed is: 0.2674503910523178\n"
     ]
    }
   ],
   "source": [
    "schedule = mlrose.ExpDecay()\n",
    "np.random.seed(2)\n",
    "annealing_best_fitness=[]\n",
    "time_start=time.clock()\n",
    "for i in iteration:\n",
    "    best_state, best_fitness = mlrose.simulated_annealing(problem, schedule = schedule,\n",
    "                                                      max_attempts = 45, max_iters = i)\n",
    "    annealing_best_fitness.append(best_fitness)\n",
    "time_fit_annealing=time.clock()-time_start\n",
    "print('The best state found is: ', best_state)\n",
    "print('The fitness at the best state is: ', annealing_best_fitness)\n",
    "print('Time needed is:', time_fit_annealing)"
   ]
  },
  {
   "cell_type": "code",
   "execution_count": 6,
   "metadata": {},
   "outputs": [
    {
     "name": "stdout",
     "output_type": "stream",
     "text": [
      "The best state found is:  [7 6 5 4 3 8 9 2 1 0]\n",
      "The fitness at the best state is:  [35.908075311439205, 26.716488176290337, 30.76425187831002, 28.677316141739617, 25.554210516121955]\n",
      "Time needed is: 0.10778639935178447\n"
     ]
    }
   ],
   "source": [
    "np.random.seed(2)\n",
    "hill_best_fitness=[]\n",
    "time_start=time.clock()\n",
    "for i in iteration:\n",
    "    best_state, best_fitness = mlrose.random_hill_climb(problem,max_attempts=45,max_iters=i)\n",
    "    hill_best_fitness.append(best_fitness)\n",
    "time_fit_hill=time.clock()-time_start    \n",
    "print('The best state found is: ', best_state)\n",
    "print('The fitness at the best state is: ', hill_best_fitness)\n",
    "print('Time needed is:', time_fit_hill)"
   ]
  },
  {
   "cell_type": "code",
   "execution_count": 7,
   "metadata": {},
   "outputs": [
    {
     "name": "stdout",
     "output_type": "stream",
     "text": [
      "The best state found is:  [6 5 4 3 8 9 2 1 0 7]\n",
      "The fitness at the best state is:  [29.575647968368987, 25.554210516121955, 25.58882879890265, 25.55421051612196, 25.554210516121955]\n",
      "Time needed is: 1.0056679573348646\n"
     ]
    }
   ],
   "source": [
    "np.random.seed(2)\n",
    "restarthill_best_fitness=[]\n",
    "time_start=time.clock()\n",
    "for i in iteration:\n",
    "    best_state, best_fitness = mlrose.random_hill_climb(problem,max_attempts=45,max_iters=i,restarts=10)\n",
    "    restarthill_best_fitness.append(best_fitness)\n",
    "time_fit_rehill=time.clock()-time_start    \n",
    "print('The best state found is: ', best_state)\n",
    "print('The fitness at the best state is: ', restarthill_best_fitness)\n",
    "print('Time needed is:', time_fit_rehill)"
   ]
  },
  {
   "cell_type": "code",
   "execution_count": 12,
   "metadata": {},
   "outputs": [
    {
     "name": "stdout",
     "output_type": "stream",
     "text": [
      "The best state found is:  [5 6 0 7 1 2 9 3 8 4]\n",
      "The fitness at the best state is:  [29.032919180741033, 26.391932855953577, 26.75110645907103, 28.25750303357957, 26.74753589495499]\n",
      "Time needed is: 28.949969718482635\n"
     ]
    }
   ],
   "source": [
    "np.random.seed(2)\n",
    "mimic_best_fitness=[]\n",
    "time_start=time.clock()\n",
    "for i in iteration:\n",
    "    best_state, best_fitness = mlrose.mimic(problem,pop_size=200,keep_pct=0.2,max_attempts=45,max_iters=i)\n",
    "    mimic_best_fitness.append(best_fitness) \n",
    "time_fit_mimic=time.clock()-time_start      \n",
    "print('The best state found is: ', best_state)\n",
    "print('The fitness at the best state is: ',mimic_best_fitness)\n",
    "print('Time needed is:', time_fit_mimic)"
   ]
  },
  {
   "cell_type": "code",
   "execution_count": 41,
   "metadata": {
    "scrolled": true
   },
   "outputs": [
    {
     "data": {
      "image/png": "[encoded data removed]",
      "text/plain": [
       "<Figure size 432x288 with 1 Axes>"
      ]
     },
     "metadata": {},
     "output_type": "display_data"
    }
   ],
   "source": [
    "x=[math.log10(x) for x in iteration]\n",
    "plt.plot(x,annealing_best_fitness,'r^--',x,genetic_best_fitness,'bo--',\n",
    "         x,hill_best_fitness,'y^--',x,restarthill_best_fitness,'go--',x,mimic_best_fitness,'k^--')\n",
    "plt.axis([0,6,20,40])\n",
    "plt.ylabel('Fitness')\n",
    "plt.xlabel('log10(iteration)')\n",
    "plt.title('TSP Problem')\n",
    "plt.savefig('E:/Machine Learning/HW2/TSP.png')"
   ]
  },
  {
   "cell_type": "code",
   "execution_count": 49,
   "metadata": {},
   "outputs": [
    {
     "name": "stdout",
     "output_type": "stream",
     "text": [
      "The best state found is:  [3 4 5 6 7 0 1 2 9 8]\n",
      "The fitness at the best state is:  [35.908075311439205, 26.75110645907103, 29.024794864854968, 25.55421051612196, 25.55421051612196]\n"
     ]
    }
   ],
   "source": [
    "np.random.seed(2)\n",
    "hill_best_fitness2=[]\n",
    "for i in iteration:\n",
    "    best_state, best_fitness = mlrose.random_hill_climb(problem,max_attempts=15,max_iters=i)\n",
    "    hill_best_fitness2.append(best_fitness)  \n",
    "print('The best state found is: ', best_state)\n",
    "print('The fitness at the best state is: ', hill_best_fitness2)"
   ]
  },
  {
   "cell_type": "code",
   "execution_count": 62,
   "metadata": {},
   "outputs": [
    {
     "name": "stdout",
     "output_type": "stream",
     "text": [
      "The best state found is:  [9 8 3 4 5 6 7 0 1 2]\n",
      "The fitness at the best state is:  [25.554210516121955, 25.554210516121955, 25.554210516121955, 25.554210516121955, 25.554210516121955]\n"
     ]
    }
   ],
   "source": [
    "np.random.seed(2)\n",
    "restarthill_best_fitness2=[]\n",
    "for i in iteration:\n",
    "    best_state, best_fitness = mlrose.random_hill_climb(problem,max_attempts=45,max_iters=i,restarts=30)\n",
    "    restarthill_best_fitness2.append(best_fitness)   \n",
    "print('The best state found is: ', best_state)\n",
    "print('The fitness at the best state is: ', restarthill_best_fitness2)"
   ]
  },
  {
   "cell_type": "code",
   "execution_count": 69,
   "metadata": {},
   "outputs": [
    {
     "name": "stdout",
     "output_type": "stream",
     "text": [
      "The best state found is:  [5 6 7 0 1 2 4 3 9 8]\n",
      "The fitness at the best state is:  [37.058847805431526, 29.024794864854968, 26.391932855953577, 26.426551138734272, 25.588828798902654]\n"
     ]
    }
   ],
   "source": [
    "schedule = mlrose.ExpDecay()\n",
    "np.random.seed(2)\n",
    "annealing_best_fitness2=[]\n",
    "for i in iteration:\n",
    "    best_state, best_fitness = mlrose.simulated_annealing(problem, schedule = schedule,\n",
    "                                                      max_attempts = 45, max_iters = i)\n",
    "    annealing_best_fitness2.append(best_fitness)\n",
    "print('The best state found is: ', best_state)\n",
    "print('The fitness at the best state is: ', annealing_best_fitness2)"
   ]
  },
  {
   "cell_type": "code",
   "execution_count": 94,
   "metadata": {},
   "outputs": [
    {
     "name": "stdout",
     "output_type": "stream",
     "text": [
      "The best state found is:  [1 2 4 3 9 8 5 6 7 0]\n",
      "The fitness at the best state is:  [27.76141615391778, 27.831469486021934, 25.58882879890265, 25.58882879890265, 25.58882879890265]\n"
     ]
    }
   ],
   "source": [
    "np.random.seed(2)\n",
    "genetic_best_fitness2=[]\n",
    "for i in iteration:\n",
    "    best_state, best_fitness = mlrose.genetic_alg(problem,pop_size=300,mutation_prob=0.1,max_attempts=150,max_iters=i)\n",
    "    genetic_best_fitness2.append(best_fitness)\n",
    "print('The best state found is: ', best_state)\n",
    "print('The fitness at the best state is: ', genetic_best_fitness2)"
   ]
  },
  {
   "cell_type": "code",
   "execution_count": 14,
   "metadata": {},
   "outputs": [
    {
     "name": "stdout",
     "output_type": "stream",
     "text": [
      "The best state found is:  [6 7 0 1 2 9 8 3 4 5]\n",
      "The fitness at the best state is:  [25.58882879890265, 25.58882879890265, 25.554210516121955, 25.554210516121955, 25.55421051612196]\n"
     ]
    }
   ],
   "source": [
    "np.random.seed(2)\n",
    "mimic_best_fitness2=[]\n",
    "for i in iteration:\n",
    "    best_state, best_fitness = mlrose.mimic(problem,pop_size=500,keep_pct=0.2,max_attempts=45,max_iters=i)\n",
    "    mimic_best_fitness2.append(best_fitness)     \n",
    "print('The best state found is: ', best_state)\n",
    "print('The fitness at the best state is: ',mimic_best_fitness2)"
   ]
  },
  {
   "cell_type": "code",
   "execution_count": 95,
   "metadata": {},
   "outputs": [
    {
     "data": {
      "image/png": "[encoded data removed]",
      "text/plain": [
       "<Figure size 432x288 with 1 Axes>"
      ]
     },
     "metadata": {},
     "output_type": "display_data"
    }
   ],
   "source": [
    "plt.plot(x,annealing_best_fitness2,'r^--',x,genetic_best_fitness2,'bo--',\n",
    "         x,hill_best_fitness2,'y^--',x,restarthill_best_fitness2,'go--',x,mimic_best_fitness2,'k^--')\n",
    "plt.axis([0,6,20,40])\n",
    "plt.ylabel('Fitness')\n",
    "plt.xlabel('log10(iteration)')\n",
    "plt.title('TSP with Tuned Parameters')\n",
    "plt.savefig('E:/Machine Learning/HW2/TSP_Better.png')"
   ]
  },
  {
   "cell_type": "code",
   "execution_count": null,
   "metadata": {},
   "outputs": [],
   "source": []
  }
 ],
 "metadata": {
  "kernelspec": {
   "display_name": "Python 3",
   "language": "python",
   "name": "python3"
  },
  "language_info": {
   "codemirror_mode": {
    "name": "ipython",
    "version": 3
   },
   "file_extension": ".py",
   "mimetype": "text/x-python",
   "name": "python",
   "nbconvert_exporter": "python",
   "pygments_lexer": "ipython3",
   "version": "3.6.5"
  }
 },
 "nbformat": 4,
 "nbformat_minor": 2
}
