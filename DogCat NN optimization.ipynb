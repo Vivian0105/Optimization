{
 "cells": [
  {
   "cell_type": "code",
   "execution_count": 1,
   "metadata": {},
   "outputs": [
    {
     "name": "stderr",
     "output_type": "stream",
     "text": [
      "C:\\Users\\huimi\\Anaconda3\\lib\\site-packages\\h5py\\__init__.py:36: FutureWarning: Conversion of the second argument of issubdtype from `float` to `np.floating` is deprecated. In future, it will be treated as `np.float64 == np.dtype(float).type`.\n",
      "  from ._conv import register_converters as _register_converters\n",
      "Using TensorFlow backend.\n"
     ]
    }
   ],
   "source": [
    "import numpy as np\n",
    "import pandas as pd\n",
    "from collections import Counter\n",
    "import matplotlib.pyplot as plt\n",
    "from sklearn.metrics import accuracy_score\n",
    "import pickle\n",
    "import math\n",
    "from sklearn.utils import shuffle\n",
    "from sklearn.model_selection import train_test_split\n",
    "import time\n",
    "import tensorflow as tf\n",
    "from keras.utils import np_utils\n",
    "import mlrose"
   ]
  },
  {
   "cell_type": "code",
   "execution_count": 2,
   "metadata": {},
   "outputs": [],
   "source": [
    "pickle_in=open(\"DogCatX.pickle\",'rb')\n",
    "DogCatX=pickle.load(pickle_in)\n",
    "pickle_in.close()\n",
    "pickle_in=open('DogCaty.pickle','rb')\n",
    "DogCaty=pickle.load(pickle_in)\n",
    "pickle_in.close()\n",
    "DogCatX=np.reshape(DogCatX,(24946,2500))\n",
    "DogCatX,DogCaty=shuffle(DogCatX,DogCaty,random_state=0)\n",
    "X_train,X_test,y_train,y_test=train_test_split(DogCatX,DogCaty,random_state=5,test_size=0.25)\n",
    "y_train=np.array(y_train)\n",
    "y_test=np.array(y_test)\n",
    "X_train=tf.keras.utils.normalize(X_train,axis=1)\n",
    "X_test=tf.keras.utils.normalize(X_test,axis=1)\n",
    "y_train_hot=np_utils.to_categorical(y_train)\n",
    "y_test_hot=np_utils.to_categorical(y_test)"
   ]
  },
  {
   "cell_type": "code",
   "execution_count": 3,
   "metadata": {},
   "outputs": [],
   "source": [
    "time_start=time.clock()\n",
    "nn_model1=mlrose.NeuralNetwork(hidden_nodes=[15],activation='relu',algorithm='random_hill_climb',max_iters=1000000,\n",
    "                               bias=True,is_classifier=True,learning_rate=0.01,early_stopping=True,max_attempts=10,restarts=5)\n",
    "nn_model1.fit(X_train,y_train_hot)\n",
    "time_learning=time.clock()-time_start"
   ]
  },
  {
   "cell_type": "code",
   "execution_count": 4,
   "metadata": {},
   "outputs": [
    {
     "name": "stdout",
     "output_type": "stream",
     "text": [
      "Training accuracy:  0.5017905820727991\n",
      "Test accuracy:  0.49270482603815935\n",
      "time 46.28778837729651\n"
     ]
    }
   ],
   "source": [
    "y_train_pred=nn_model1.predict(X_train)\n",
    "y_train_accuracy=accuracy_score(y_train_hot,y_train_pred)\n",
    "print('Training accuracy: ', y_train_accuracy)\n",
    "y_test_pred = nn_model1.predict(X_test)\n",
    "y_test_accuracy = accuracy_score(y_test_hot, y_test_pred)\n",
    "print('Test accuracy: ', y_test_accuracy)\n",
    "print('time',time_learning/60)"
   ]
  },
  {
   "cell_type": "code",
   "execution_count": null,
   "metadata": {},
   "outputs": [],
   "source": [
    "# iteration=10000, max_attempts=10, 0.5,0.5\n",
    "# iteration=100000, max_attempts=10, 0.5,0.5, time=10, learning_rate=0.001\n",
    "# iteration=1000000, max_attempts=10, 0.49, 0.5, time=23"
   ]
  },
  {
   "cell_type": "code",
   "execution_count": null,
   "metadata": {},
   "outputs": [],
   "source": [
    "time_start=time.clock()\n",
    "nn_model=mlrose.NeuralNetwork(hidden_nodes=[15],algorithm='simulated_annealing',max_iters=10000,bias=True,is_classifier=True,learning_rate=0.01,early_stopping=True,max_attempts=10)\n",
    "nn_model.fit(X_train,y_train_hot)\n",
    "time_SA=time.clock()-time_start"
   ]
  },
  {
   "cell_type": "code",
   "execution_count": null,
   "metadata": {},
   "outputs": [],
   "source": [
    "y_train_pred=nn_model.predict(X_train)\n",
    "y_train_accuracy_sa=accuracy_score(y_train_hot,y_train_pred)\n",
    "print('Training accuracy: ', y_train_accuracy_sa)\n",
    "y_test_pred = nn_model.predict(X_test)\n",
    "y_test_accuracy_sa = accuracy_score(y_test_hot, y_test_pred)\n",
    "print('Test accuracy: ', y_test_accuracy_sa)\n",
    "print('Train_time',time_SA/60)"
   ]
  },
  {
   "cell_type": "code",
   "execution_count": null,
   "metadata": {},
   "outputs": [],
   "source": [
    "# iteration=5000, max attempt=10   learning rate=0.01      train accuracy=0.50      test accuracy=0.50   time=51min  max_attempts=10\n",
    "# iteration=5000, max attempt=10   learning rate=0.001      train accuracy=0.50      test accuracy=0.50   time=51min  max_attempts=10\n",
    "# iteration=1000, max attempt=10   learning rate=0.001      train accuracy=0.50      test accuracy=0.50   time=10min   max_attempts=10\n",
    "# # iteration=1000, max attempt=10   learning rate=0.001      train accuracy=0.50      test accuracy=0.50   time=10min   max_attempts=100"
   ]
  }
 ],
 "metadata": {
  "kernelspec": {
   "display_name": "Python 3",
   "language": "python",
   "name": "python3"
  },
  "language_info": {
   "codemirror_mode": {
    "name": "ipython",
    "version": 3
   },
   "file_extension": ".py",
   "mimetype": "text/x-python",
   "name": "python",
   "nbconvert_exporter": "python",
   "pygments_lexer": "ipython3",
   "version": "3.6.5"
  }
 },
 "nbformat": 4,
 "nbformat_minor": 2
}
